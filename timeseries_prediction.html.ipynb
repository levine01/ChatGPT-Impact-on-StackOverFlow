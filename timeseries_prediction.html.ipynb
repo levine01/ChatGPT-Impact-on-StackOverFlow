{
 "cells": [
  {
   "cell_type": "code",
   "execution_count": null,
   "id": "6f4e8562",
   "metadata": {},
   "outputs": [],
   "source": [
    "<!DOCTYPE html>\n",
    "<html>\n",
    "<head>\n",
    "    <title>Time Series Prediction</title>\n",
    "</head>\n",
    "<body>\n",
    "    <h1>Time Series Prediction</h1>\n",
    "    <form id=\"prediction-form\">\n",
    "        <label for=\"timeseries\">Enter Time Series Data:</label>\n",
    "        <input type=\"text\" id=\"timeseries\" name=\"timeseries\" required>\n",
    "        <button type=\"submit\">Predict</button>\n",
    "    </form>\n",
    "    <div id=\"prediction-result\"></div>\n",
    "\n",
    "    <script>\n",
    "        document.getElementById('prediction-form').addEventListener('submit', function(e) {\n",
    "            e.preventDefault();\n",
    "            const timeseries = document.getElementById('timeseries').value;\n",
    "            fetch('/predict', {\n",
    "                method: 'POST',\n",
    "                headers: {\n",
    "                    'Content-Type': 'application/json'\n",
    "                },\n",
    "                body: JSON.stringify({ 'timeseries': timeseries })\n",
    "            })\n",
    "            .then(response => response.json())\n",
    "            .then(data => {\n",
    "                document.getElementById('prediction-result').innerText = 'Predictions: ' + data.predictions;\n",
    "            });\n",
    "        });\n",
    "    </script>\n",
    "</body>\n",
    "</html>\n"
   ]
  }
 ],
 "metadata": {
  "kernelspec": {
   "display_name": "python(learn-env)",
   "language": "python",
   "name": "learn-env"
  },
  "language_info": {
   "codemirror_mode": {
    "name": "ipython",
    "version": 3
   },
   "file_extension": ".py",
   "mimetype": "text/x-python",
   "name": "python",
   "nbconvert_exporter": "python",
   "pygments_lexer": "ipython3",
   "version": "3.10.11"
  }
 },
 "nbformat": 4,
 "nbformat_minor": 5
}
